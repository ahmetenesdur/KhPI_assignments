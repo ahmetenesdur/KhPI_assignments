{
 "cells": [
  {
   "cell_type": "markdown",
   "id": "8fee8a4e-f596-4396-8595-3c2bc93a5b57",
   "metadata": {},
   "source": [
    "# Analysis of US Baby Names (1880 - 2014)"
   ]
  },
  {
   "cell_type": "markdown",
   "id": "3f546955-ad82-4209-8902-4eae8d808cdb",
   "metadata": {},
   "source": [
    "## Topic and Goal of the Lab\n",
    "The goal of this lab is to understand the fundamental features of the Pandas library for data analysis by working on a real dataset - the US Baby Names dataset from Kaggle. The exercises aim to explore various aspects of the dataset such as the distribution of names, gender-neutral names, and trend analysis over the years."
   ]
  },
  {
   "cell_type": "markdown",
   "id": "dcb79cc1-99ff-4638-84d3-87f577d6ff89",
   "metadata": {},
   "source": [
    "\n",
    "## Progress of the Work\n",
    "The exercises were executed sequentially as outlined in the laboratory assignment. The Pandas library was utilized extensively to manipulate and analyze the dataset. Key tasks included calculating unique names, identifying gender-neutral names, and visualizing trends over the years."
   ]
  },
  {
   "cell_type": "markdown",
   "id": "eca7d738-daae-4a9e-ae62-69636be36c21",
   "metadata": {},
   "source": [
    "## Link to the created Jupyter Notebook on GitHub, rendered by nbviewer\n",
    "- **GitHub Link:** [github](https://github.com/ahmetenesdur/KhPI_assignments/tree/main/python_data_processing/assignment_2)\n",
    "- **nbviewer Link:** [nbviewer link](https://nbviewer.org/github/ahmetenesdur/KhPI_assignments/blob/main/python_data_processing/assignment_2/lab2.ipynb)"
   ]
  },
  {
   "cell_type": "code",
   "execution_count": 1,
   "id": "8d711212-f8e9-448e-bcf8-8682263c5a43",
   "metadata": {},
   "outputs": [],
   "source": [
    "import pandas as pd\n",
    "import matplotlib.pyplot as plt\n",
    "\n",
    "# Load the dataset\n",
    "df = pd.read_csv('NationalNames.csv')\n"
   ]
  },
  {
   "cell_type": "code",
   "execution_count": 2,
   "id": "7d8befd1-9808-4b54-a5c2-7537db448a64",
   "metadata": {},
   "outputs": [
    {
     "name": "stdout",
     "output_type": "stream",
     "text": [
      "Exercise 1:\n",
      "   Id       Name  Year Gender  Count\n",
      "0   1       Mary  1880      F   7065\n",
      "1   2       Anna  1880      F   2604\n",
      "2   3       Emma  1880      F   2003\n",
      "3   4  Elizabeth  1880      F   1939\n",
      "4   5     Minnie  1880      F   1746\n",
      "5   6   Margaret  1880      F   1578\n",
      "6   7        Ida  1880      F   1472\n",
      "7   8      Alice  1880      F   1414\n"
     ]
    }
   ],
   "source": [
    "# Exercise 1: Output the first 8 rows of the dataset\n",
    "print(\"Exercise 1:\")\n",
    "print(df.head(8))"
   ]
  },
  {
   "cell_type": "code",
   "execution_count": 3,
   "id": "accd293e-eaf9-4834-a9fe-bd018a0ec529",
   "metadata": {},
   "outputs": [
    {
     "name": "stdout",
     "output_type": "stream",
     "text": [
      "\n",
      "Exercise 2:\n",
      "              Id     Name  Year Gender  Count\n",
      "1825425  1825426       Zo  2014      M      5\n",
      "1825426  1825427    Zyeir  2014      M      5\n",
      "1825427  1825428     Zyel  2014      M      5\n",
      "1825428  1825429   Zykeem  2014      M      5\n",
      "1825429  1825430   Zymeer  2014      M      5\n",
      "1825430  1825431  Zymiere  2014      M      5\n",
      "1825431  1825432    Zyran  2014      M      5\n",
      "1825432  1825433    Zyrin  2014      M      5\n"
     ]
    }
   ],
   "source": [
    "# Exercise 2: Output the last 8 rows of the dataset\n",
    "print(\"\\nExercise 2:\")\n",
    "print(df.tail(8))\n"
   ]
  },
  {
   "cell_type": "code",
   "execution_count": 4,
   "id": "945c0654-6412-4cdf-979d-ebbe85971180",
   "metadata": {},
   "outputs": [
    {
     "name": "stdout",
     "output_type": "stream",
     "text": [
      "\n",
      "Exercise 3:\n",
      "['Id', 'Name', 'Year', 'Gender', 'Count']\n"
     ]
    }
   ],
   "source": [
    "# Exercise 3: Get the names of dataset columns\n",
    "print(\"\\nExercise 3:\")\n",
    "print(df.columns.tolist())"
   ]
  },
  {
   "cell_type": "code",
   "execution_count": 5,
   "id": "031d995f-b002-4fee-80a9-fb3ed3ff22d4",
   "metadata": {},
   "outputs": [
    {
     "name": "stdout",
     "output_type": "stream",
     "text": [
      "\n",
      "Exercise 5:\n",
      "93889\n"
     ]
    }
   ],
   "source": [
    "# Exercise 5: Find the number of unique names in the whole dataset\n",
    "print(\"\\nExercise 5:\")\n",
    "unique_names = df['Name'].nunique()\n",
    "print(unique_names)"
   ]
  },
  {
   "cell_type": "code",
   "execution_count": 6,
   "id": "9e11ec04-4f65-485a-a127-30f48082ac1a",
   "metadata": {},
   "outputs": [
    {
     "name": "stdout",
     "output_type": "stream",
     "text": [
      "\n",
      "Exercise 10:\n"
     ]
    },
    {
     "name": "stdout",
     "output_type": "stream",
     "text": [
      "Year\n",
      "1880     1889\n",
      "1881     1830\n",
      "1882     2012\n",
      "1883     1962\n",
      "1884     2158\n",
      "        ...  \n",
      "2010    31603\n",
      "2011    31418\n",
      "2012    31236\n",
      "2013    30774\n",
      "2014    30579\n",
      "Name: Name, Length: 135, dtype: int64\n"
     ]
    }
   ],
   "source": [
    "# Exercise 10: Count the number of unique names in each year\n",
    "print(\"\\nExercise 10:\")\n",
    "unique_names_per_year = df.groupby('Year')['Name'].nunique()\n",
    "print(unique_names_per_year)\n"
   ]
  },
  {
   "cell_type": "code",
   "execution_count": 7,
   "id": "4973714d-d7b3-4f14-82d5-ed03de440b4b",
   "metadata": {},
   "outputs": [
    {
     "name": "stdout",
     "output_type": "stream",
     "text": [
      "\n",
      "Exercise 11:\n",
      "2008\n"
     ]
    }
   ],
   "source": [
    "# Exercise 11: Find the year with the most number of unique names\n",
    "print(\"\\nExercise 11:\")\n",
    "year_most_unique_names = unique_names_per_year.idxmax()\n",
    "print(year_most_unique_names)"
   ]
  },
  {
   "cell_type": "code",
   "execution_count": 8,
   "id": "ed341d80-04fb-411c-85e1-726d382a4652",
   "metadata": {},
   "outputs": [
    {
     "name": "stdout",
     "output_type": "stream",
     "text": [
      "\n",
      "Exercise 12:\n",
      "          Name  Count\n",
      "1608302  Jacob  22568\n"
     ]
    }
   ],
   "source": [
    "# Exercise 12: Find most popular name of the year with the most number of unique names\n",
    "print(\"\\nExercise 12:\")\n",
    "most_popular_name_year = df[df['Year'] == year_most_unique_names].nlargest(1, 'Count')[['Name', 'Count']]\n",
    "print(most_popular_name_year)"
   ]
  },
  {
   "cell_type": "code",
   "execution_count": 9,
   "id": "ef11ed93-696a-449e-85f7-0486a6dc5263",
   "metadata": {},
   "outputs": [
    {
     "name": "stdout",
     "output_type": "stream",
     "text": [
      "\n",
      "Exercise 13:\n",
      "2004\n"
     ]
    }
   ],
   "source": [
    "# Exercise 13: Find the year when the name “Jacob” was the most popular as a female name\n",
    "print(\"\\nExercise 13:\")\n",
    "jacob_female_popular_year = df[(df['Name'] == 'Jacob') & (df['Gender'] == 'F')].nlargest(1, 'Count')['Year'].values[0]\n",
    "print(jacob_female_popular_year)"
   ]
  },
  {
   "cell_type": "code",
   "execution_count": 10,
   "id": "a2f6aba9-3d7a-41ba-a732-d52bb0cdd337",
   "metadata": {},
   "outputs": [
    {
     "name": "stdout",
     "output_type": "stream",
     "text": [
      "\n",
      "Exercise 14:\n",
      "2008\n"
     ]
    }
   ],
   "source": [
    "# Exercise 14: Find year, with the most number of gender neutral names\n",
    "print(\"\\nExercise 14:\")\n",
    "gender_neutral_names_year = df[df['Gender'] == 'F'].merge(df[df['Gender'] == 'M'], on=['Year', 'Name']).groupby('Year').size().idxmax()\n",
    "print(gender_neutral_names_year)"
   ]
  },
  {
   "cell_type": "code",
   "execution_count": 11,
   "id": "952daba6-b723-4dc3-be04-2a6b19b8fbb7",
   "metadata": {},
   "outputs": [
    {
     "name": "stdout",
     "output_type": "stream",
     "text": [
      "\n",
      "Exercise 15:\n",
      "Year\n",
      "1880    201484\n",
      "1881    192699\n",
      "1882    221538\n",
      "1883    216950\n",
      "1884    243467\n",
      "Name: Count, dtype: int64\n"
     ]
    }
   ],
   "source": [
    "# Exercise 15: Find total births per year\n",
    "print(\"\\nExercise 15:\")\n",
    "total_births_per_year = df.groupby('Year')['Count'].sum()\n",
    "print(total_births_per_year.head())  # displaying only the first 5 rows as an example\n"
   ]
  },
  {
   "cell_type": "code",
   "execution_count": 12,
   "id": "d03d68cc-a83a-47c0-97ea-c247b40dc499",
   "metadata": {},
   "outputs": [
    {
     "name": "stdout",
     "output_type": "stream",
     "text": [
      "\n",
      "Exercise 16:\n",
      "1957\n"
     ]
    }
   ],
   "source": [
    "# Exercise 16: Find the year when the greatest number of children was born\n",
    "print(\"\\nExercise 16:\")\n",
    "year_most_children_born = total_births_per_year.idxmax()\n",
    "print(year_most_children_born)"
   ]
  },
  {
   "cell_type": "code",
   "execution_count": 13,
   "id": "d207e4eb-5a6c-4684-8cdd-c0d061ac116b",
   "metadata": {},
   "outputs": [
    {
     "name": "stdout",
     "output_type": "stream",
     "text": [
      "\n",
      "Exercise 17:\n",
      "Gender       F       M\n",
      "Year                  \n",
      "1880     90993  110491\n",
      "1881     91954  100745\n",
      "1882    107850  113688\n",
      "1883    112321  104629\n",
      "1884    129022  114445\n"
     ]
    }
   ],
   "source": [
    "# Exercise 17: Find the number of girls and boys that were born in each year\n",
    "print(\"\\nExercise 17:\")\n",
    "gender_births_per_year = df.groupby(['Year', 'Gender'])['Count'].sum().unstack()\n",
    "print(gender_births_per_year.head())  # displaying only the first 5 rows as an example\n"
   ]
  },
  {
   "cell_type": "code",
   "execution_count": 14,
   "id": "f5a57121-4879-4161-a666-89433aba5934",
   "metadata": {},
   "outputs": [
    {
     "name": "stdout",
     "output_type": "stream",
     "text": [
      "\n",
      "Exercise 18:\n",
      "54\n"
     ]
    }
   ],
   "source": [
    "# Exercise 18: Count the number of years when more girls were born than boys\n",
    "print(\"\\nExercise 18:\")\n",
    "years_more_girls = (gender_births_per_year['F'] > gender_births_per_year['M']).sum()\n",
    "print(years_more_girls)"
   ]
  },
  {
   "cell_type": "code",
   "execution_count": 15,
   "id": "4e0a011f-8dd8-4cb1-bb5a-557e15312b30",
   "metadata": {},
   "outputs": [
    {
     "name": "stdout",
     "output_type": "stream",
     "text": [
      "\n",
      "Exercise 21:\n",
      "4139\n"
     ]
    }
   ],
   "source": [
    "# Exercise 21: Count how much times boys were named as Barbara\n",
    "print(\"\\nExercise 21:\")\n",
    "barbara_boys_count = df[(df['Name'] == 'Barbara') & (df['Gender'] == 'M')]['Count'].sum()\n",
    "print(barbara_boys_count)"
   ]
  },
  {
   "cell_type": "code",
   "execution_count": 16,
   "id": "9b3bbc9f-107c-4a3d-b4db-0a3b59a64075",
   "metadata": {},
   "outputs": [
    {
     "name": "stdout",
     "output_type": "stream",
     "text": [
      "\n",
      "Exercise 22:\n",
      "135\n"
     ]
    }
   ],
   "source": [
    "# Exercise 22: Calculate how many years the observation was carried out\n",
    "print(\"\\nExercise 22:\")\n",
    "observation_years = df['Year'].nunique()\n",
    "print(observation_years)"
   ]
  },
  {
   "cell_type": "code",
   "execution_count": 17,
   "id": "67c41e61-3f96-485b-8651-0e9e7c03c89f",
   "metadata": {},
   "outputs": [
    {
     "name": "stdout",
     "output_type": "stream",
     "text": [
      "\n",
      "Exercise 23:\n",
      "Tommie\n"
     ]
    }
   ],
   "source": [
    "# Exercise 23: Find the most popular gender neutral names (those present each year)\n",
    "print(\"\\nExercise 23:\")\n",
    "gender_neutral_names = df[df['Gender'] == 'F'].merge(df[df['Gender'] == 'M'], on=['Name', 'Year'])['Name']\n",
    "popular_gender_neutral_names = gender_neutral_names.value_counts().idxmax()\n",
    "print(popular_gender_neutral_names)"
   ]
  },
  {
   "cell_type": "code",
   "execution_count": 18,
   "id": "081d9067-d665-4d54-ae06-1e44c176fed7",
   "metadata": {},
   "outputs": [
    {
     "name": "stdout",
     "output_type": "stream",
     "text": [
      "\n",
      "Exercise 24:\n",
      "Jodie\n"
     ]
    }
   ],
   "source": [
    "# Exercise 24: Find the most popular unpopular names (unpopular name that babies have been called the most times)\n",
    "print(\"\\nExercise 24:\")\n",
    "least_popular_names = df.nsmallest(1000, 'Count')['Name']  # Assuming 1000 least popular names\n",
    "most_popular_unpopular_name = least_popular_names.value_counts().idxmax()\n",
    "print(most_popular_unpopular_name)\n"
   ]
  },
  {
   "cell_type": "code",
   "execution_count": 19,
   "id": "ac84df87-5dc5-491f-8605-333efcde53dd",
   "metadata": {},
   "outputs": [
    {
     "name": "stdout",
     "output_type": "stream",
     "text": [
      "\n",
      "Exercise 26:\n"
     ]
    },
    {
     "data": {
      "image/png": "[encoded data removed]",
      "text/plain": [
       "<Figure size 640x480 with 1 Axes>"
      ]
     },
     "metadata": {},
     "output_type": "display_data"
    }
   ],
   "source": [
    "# Exercise 26: Plot graphs of the distribution of the number of female names “John” and male names “Mary” by years\n",
    "print(\"\\nExercise 26:\")\n",
    "john_female = df[(df['Name'] == 'John') & (df['Gender'] == 'F')].groupby('Year')['Count'].sum()\n",
    "mary_male = df[(df['Name'] == 'Mary') & (df['Gender'] == 'M')].groupby('Year')['Count'].sum()\n",
    "plt.plot(john_female.index, john_female.values, label='Female John')\n",
    "plt.plot(mary_male.index, mary_male.values, label='Male Mary')\n",
    "plt.legend()\n",
    "plt.title('Distribution of names \"John\" and \"Mary\" by years')\n",
    "plt.xlabel('Year')\n",
    "plt.ylabel('Count')\n",
    "plt.show()"
   ]
  },
  {
   "cell_type": "markdown",
   "id": "d373b04a-1c10-4048-8bc4-64e3b822f560",
   "metadata": {},
   "source": [
    "## Conclusions\n",
    "The analysis provided a comprehensive understanding of the US Baby Names dataset. Key findings include:\n",
    "- The dataset comprises 93889 unique names from the year 1880 to 2014.\n",
    "- The year 2008 had the highest number of unique names, with Jacob being the most popular name.\n",
    "- The name Jacob was most popular as a female name in the year 2004.\n",
    "- The year 1957 witnessed the highest number of births.\n",
    "- The name 'Tommie' emerged as the most popular gender-neutral name.\n",
    "\n",
    "This exercise provided a practical exposure to Pandas library features and emphasized the ease with which data analysis tasks can be performed. The trends and patterns observed in the dataset offer a glimpse into cultural or societal preferences over the years."
   ]
  }
 ],
 "metadata": {
  "kernelspec": {
   "display_name": "Python 3 (ipykernel)",
   "language": "python",
   "name": "python3"
  },
  "language_info": {
   "codemirror_mode": {
    "name": "ipython",
    "version": 3
   },
   "file_extension": ".py",
   "mimetype": "text/x-python",
   "name": "python",
   "nbconvert_exporter": "python",
   "pygments_lexer": "ipython3",
   "version": "3.10.12"
  }
 },
 "nbformat": 4,
 "nbformat_minor": 5
}
